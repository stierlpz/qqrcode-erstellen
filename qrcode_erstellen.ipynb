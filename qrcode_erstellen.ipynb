{
  "nbformat": 4,
  "nbformat_minor": 0,
  "metadata": {
    "colab": {
      "name": "qrcode_erstellen.ipynb",
      "private_outputs": true,
      "provenance": [],
      "authorship_tag": "ABX9TyOq7O5NSoMThPqZBwAg+Sb8",
      "include_colab_link": true
    },
    "kernelspec": {
      "name": "python3",
      "display_name": "Python 3"
    },
    "language_info": {
      "name": "python"
    }
  },
  "cells": [
    {
      "cell_type": "markdown",
      "metadata": {
        "id": "view-in-github",
        "colab_type": "text"
      },
      "source": [
        "<a href=\"https://colab.research.google.com/github/stierlpz/qrcode-erstellen/blob/main/qrcode_erstellen.ipynb\" target=\"_parent\"><img src=\"https://colab.research.google.com/assets/colab-badge.svg\" alt=\"Open In Colab\"/></a>"
      ]
    },
    {
      "cell_type": "markdown",
      "metadata": {
        "id": "GK0i6jdGAviu"
      },
      "source": [
        "# Setup"
      ]
    },
    {
      "cell_type": "code",
      "metadata": {
        "id": "VuCHWIHmAqWT"
      },
      "source": [
        "import os\n",
        "\n",
        "if not os.path.exists('images/png'):\n",
        "    os.makedirs('images/png')\n",
        "\n",
        "if not os.path.exists('images/jpg'):\n",
        "    os.makedirs('images/jpg')    \n",
        "\n",
        "if not os.path.exists('images/gif'):\n",
        "    os.makedirs('images/gif')"
      ],
      "execution_count": null,
      "outputs": []
    },
    {
      "cell_type": "code",
      "metadata": {
        "id": "96RA8s4WA4c8"
      },
      "source": [
        "pip install pillow"
      ],
      "execution_count": null,
      "outputs": []
    },
    {
      "cell_type": "code",
      "metadata": {
        "id": "IACGaOEMA_Du"
      },
      "source": [
        "pip install qrcode"
      ],
      "execution_count": null,
      "outputs": []
    },
    {
      "cell_type": "code",
      "metadata": {
        "id": "zkvsHLSrBBGH"
      },
      "source": [
        "import qrcode"
      ],
      "execution_count": null,
      "outputs": []
    },
    {
      "cell_type": "markdown",
      "metadata": {
        "id": "6Y3p7j2EBFhZ"
      },
      "source": [
        "# QR-Code erstellen\n",
        "Die fertigen Codes liegen im Ordner 'images'."
      ]
    },
    {
      "cell_type": "code",
      "metadata": {
        "id": "m-IE5SRTBOc-"
      },
      "source": [
        "text=(input('Eingabe: '))\n",
        "\n",
        "input_data = text\n",
        "\n",
        "dn=(input('Name der Datei (OHNE DATEITYP!):  '))\n",
        "\n",
        "print('-------------------------------------------------------------')\n",
        "print(text,'wird als ',dn,'_qr gespeichert.')\n",
        "print('-------------------------------------------------------------')\n",
        "\n",
        "qr = qrcode.QRCode(\n",
        "        version=5,\n",
        "        box_size=10,\n",
        "        border=5)\n",
        "qr.add_data(input_data)\n",
        "qr.make(fit=True)\n",
        "\n",
        "img = qr.make_image(fill='black', back_color='white')\n",
        "\n",
        "img.save('images/png/'+dn+'_qr.png')\n",
        "img.save('images/jpg/'+dn+'_qr.jpg')\n",
        "img.save('images/gif/'+dn+'_qr.gif')\n",
        "\n",
        "print('-------------------------------------------------------------')\n",
        "print('gespeichert als: ')\n",
        "print('images/png/'+dn+'_qr.png')\n",
        "print('images/jpg/'+dn+'_qr.jpg')\n",
        "print('images/gif/'+dn+'_qr.gif')\n",
        "print('-------------------------------------------------------------')"
      ],
      "execution_count": null,
      "outputs": []
    }
  ]
}