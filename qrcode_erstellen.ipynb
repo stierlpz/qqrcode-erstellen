{
  "nbformat": 4,
  "nbformat_minor": 0,
  "metadata": {
    "colab": {
      "name": "qrcode_erstellen.ipynb",
      "private_outputs": true,
      "provenance": [],
      "collapsed_sections": [
        "GK0i6jdGAviu"
      ],
      "authorship_tag": "ABX9TyOzf8phAIyOHavd2Ojf0wx/",
      "include_colab_link": true
    },
    "kernelspec": {
      "name": "python3",
      "display_name": "Python 3"
    },
    "language_info": {
      "name": "python"
    },
    "accelerator": "GPU"
  },
  "cells": [
    {
      "cell_type": "markdown",
      "metadata": {
        "id": "view-in-github",
        "colab_type": "text"
      },
      "source": [
        "<a href=\"https://colab.research.google.com/github/stierlpz/qrcode-erstellen/blob/main/qrcode_erstellen.ipynb\" target=\"_parent\"><img src=\"https://colab.research.google.com/assets/colab-badge.svg\" alt=\"Open In Colab\"/></a>"
      ]
    },
    {
      "cell_type": "markdown",
      "metadata": {
        "id": "GK0i6jdGAviu"
      },
      "source": [
        "# Setup"
      ]
    },
    {
      "cell_type": "code",
      "metadata": {
        "id": "VuCHWIHmAqWT"
      },
      "source": [
        "import os\n",
        "\n",
        "if not os.path.exists('out/images/png'):\n",
        "    os.makedirs('out/images/png')\n",
        "\n",
        "if not os.path.exists('out/images/jpg'):\n",
        "    os.makedirs('out/images/jpg')    \n",
        "\n",
        "if not os.path.exists('out/images/gif'):\n",
        "    os.makedirs('out/images/gif')\n",
        "\n",
        "if not os.path.exists('out/audio/mp3'):\n",
        "    os.makedirs('out/audio/mp3')\n",
        "\n",
        "if not os.path.exists('out/audio/wav'):\n",
        "    os.makedirs('out/audio/wav')\n",
        "\n",
        "if not os.path.exists('out/audio/ogg'):\n",
        "    os.makedirs('out/audio/ogg')    "
      ],
      "execution_count": null,
      "outputs": []
    },
    {
      "cell_type": "code",
      "metadata": {
        "id": "96RA8s4WA4c8"
      },
      "source": [
        "pip install pillow"
      ],
      "execution_count": null,
      "outputs": []
    },
    {
      "cell_type": "code",
      "metadata": {
        "id": "IACGaOEMA_Du"
      },
      "source": [
        "pip install qrcode"
      ],
      "execution_count": null,
      "outputs": []
    },
    {
      "cell_type": "code",
      "metadata": {
        "id": "zkvsHLSrBBGH"
      },
      "source": [
        "import qrcode"
      ],
      "execution_count": null,
      "outputs": []
    },
    {
      "cell_type": "markdown",
      "metadata": {
        "id": "6Y3p7j2EBFhZ"
      },
      "source": [
        "# QR-Code erstellen\n",
        "Die fertigen Codes liegen im Ordner 'out/images'."
      ]
    },
    {
      "cell_type": "code",
      "metadata": {
        "id": "m-IE5SRTBOc-"
      },
      "source": [
        "text=(input('Eingabe: '))\n",
        "\n",
        "input_data = text\n",
        "\n",
        "dn=(input('Name der Datei (OHNE DATEITYP!):  '))\n",
        "\n",
        "print('-------------------------------------------------------------')\n",
        "print(text,'wird als ',dn,'_qr gespeichert.')\n",
        "print('-------------------------------------------------------------')\n",
        "\n",
        "qr = qrcode.QRCode(\n",
        "        version=10,\n",
        "        box_size=2,\n",
        "        border=5)\n",
        "qr.add_data(input_data)\n",
        "qr.make(fit=True)\n",
        "\n",
        "img = qr.make_image(fill='black', back_color='white')\n",
        "\n",
        "img.save('out/images/png/'+dn+'_qr.png')\n",
        "img.save('out/images/jpg/'+dn+'_qr.jpg')\n",
        "img.save('out/images/gif/'+dn+'_qr.gif')\n",
        "\n",
        "print('-------------------------------------------------------------')\n",
        "print('Images gespeichert als: ')\n",
        "print('out/images/png/'+dn+'_qr.png')\n",
        "print('out/images/jpg/'+dn+'_qr.jpg')\n",
        "print('out/images/gif/'+dn+'_qr.gif')\n",
        "print('-------------------------------------------------------------')"
      ],
      "execution_count": null,
      "outputs": []
    },
    {
      "cell_type": "markdown",
      "metadata": {
        "id": "OZWVub-6pbTl"
      },
      "source": [
        "\n",
        "\n",
        "# Audio\n",
        "Die fertigen Audios liegen im Ordner 'out/audio'"
      ]
    },
    {
      "cell_type": "code",
      "metadata": {
        "id": "tArsV6Ako3A6"
      },
      "source": [
        "pip install gTTS"
      ],
      "execution_count": null,
      "outputs": []
    },
    {
      "cell_type": "code",
      "metadata": {
        "id": "QsROfvfZosHG"
      },
      "source": [
        "from gtts import gTTS \n",
        "import os\n",
        "from io import BytesIO"
      ],
      "execution_count": null,
      "outputs": []
    },
    {
      "cell_type": "code",
      "metadata": {
        "id": "Df6j9ozfpV88"
      },
      "source": [
        "language='de'\n",
        "\n",
        "tts = gTTS(text,\n",
        "          lang=language,\n",
        "          slow=False,\n",
        "          lang_check=True,\n",
        "\n",
        "          )\n",
        "tts.save('out/audio/mp3/'+dn+'_qr.mp3')\n",
        "tts.save('out/audio/wav/'+dn+'_qr.wav')\n",
        "tts.save('out/audio/ogg/'+dn+'_qr.ogg')\n",
        "\n",
        "print('-------------------------------------------------------------')\n",
        "print('Audios gespeichert als: ')\n",
        "print('out/audio/mp3/'+dn+'_qr.mp3')\n",
        "print('out/audio/wav/'+dn+'_qr.wav')\n",
        "print('out/audio/ogg/'+dn+'_qr.ogg')\n",
        "print('-------------------------------------------------------------')\n"
      ],
      "execution_count": null,
      "outputs": []
    }
  ]
}