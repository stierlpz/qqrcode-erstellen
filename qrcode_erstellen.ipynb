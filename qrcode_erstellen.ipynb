{
  "nbformat": 4,
  "nbformat_minor": 0,
  "metadata": {
    "colab": {
      "name": "qrcode erstellen",
      "private_outputs": true,
      "provenance": [],
      "collapsed_sections": [],
      "authorship_tag": "ABX9TyNHqTU2S1TY76C4cwS99l0I",
      "include_colab_link": true
    },
    "kernelspec": {
      "name": "python3",
      "display_name": "Python 3"
    },
    "language_info": {
      "name": "python"
    }
  },
  "cells": [
    {
      "cell_type": "markdown",
      "metadata": {
        "id": "view-in-github",
        "colab_type": "text"
      },
      "source": [
        "<a href=\"https://colab.research.google.com/github/stierlpz/qqrcode-erstellen/blob/main/qrcode_erstellen.ipynb\" target=\"_parent\"><img src=\"https://colab.research.google.com/assets/colab-badge.svg\" alt=\"Open In Colab\"/></a>"
      ]
    },
    {
      "cell_type": "markdown",
      "metadata": {
        "id": "RU3eMiqVZ0Pj"
      },
      "source": [
        "# Setup"
      ]
    },
    {
      "cell_type": "code",
      "metadata": {
        "id": "Ba42L8w3m39W"
      },
      "source": [
        "import os\n",
        "\n",
        "\n",
        "if not os.path.exists('images/png'):\n",
        "    os.makedirs('images/png')\n",
        "\n",
        "if not os.path.exists('images/jpg'):\n",
        "    os.makedirs('images/jpg')    \n",
        "\n",
        "if not os.path.exists('images/gif'):\n",
        "    os.makedirs('images/gif')  \n",
        "\n"
      ],
      "execution_count": null,
      "outputs": []
    },
    {
      "cell_type": "code",
      "metadata": {
        "id": "w_HLprZxR4Tz"
      },
      "source": [
        "pip install pillow"
      ],
      "execution_count": null,
      "outputs": []
    },
    {
      "cell_type": "code",
      "metadata": {
        "id": "oWFgB0q4SzRg"
      },
      "source": [
        "pip install qrcode"
      ],
      "execution_count": null,
      "outputs": []
    },
    {
      "cell_type": "code",
      "metadata": {
        "id": "ARYK2n7Te-BB"
      },
      "source": [
        "import qrcode "
      ],
      "execution_count": null,
      "outputs": []
    },
    {
      "cell_type": "markdown",
      "metadata": {
        "id": "AsWNYs8cZ5Tn"
      },
      "source": [
        "\n",
        "# QR-Code erstellen\n",
        "Die fertigen Codes liegen im Ordner 'images'."
      ]
    },
    {
      "cell_type": "code",
      "metadata": {
        "id": "WYzYzXtAS20R"
      },
      "source": [
        "text=(input('Eingabe: '))\n",
        "\n",
        "input_data = text\n",
        "\n",
        "dn=(input('Name der Datei (OHNE DATEITYP!):  '))\n",
        "\n",
        "print('-------------------------------------------------------------')\n",
        "print(text,'wird als ',dn,'_qr gespeichert.')\n",
        "print('-------------------------------------------------------------')\n",
        "\n",
        "qr = qrcode.QRCode(\n",
        "        version=5,\n",
        "        box_size=10,\n",
        "        border=5)\n",
        "qr.add_data(input_data)\n",
        "qr.make(fit=True)\n",
        "\n",
        "img = qr.make_image(fill='black', back_color='white')\n",
        "\n",
        "img.save('images/png/'+dn+'_qr.png')\n",
        "img.save('images/jpg/'+dn+'_qr.jpg')\n",
        "img.save('images/gif/'+dn+'_qr.gif')\n",
        "\n",
        "print('-------------------------------------------------------------')\n",
        "print('gespeichert als: ')\n",
        "print('images/png/'+dn+'_qr.png')\n",
        "print('images/jpg/'+dn+'_qr.jpg')\n",
        "print('images/gif/'+dn+'_qr.gif')\n",
        "print('-------------------------------------------------------------')"
      ],
      "execution_count": null,
      "outputs": []
    }
  ]
}